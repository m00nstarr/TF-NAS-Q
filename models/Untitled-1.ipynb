{
 "cells": [
  {
   "cell_type": "code",
   "execution_count": 1,
   "metadata": {},
   "outputs": [
    {
     "ename": "FileNotFoundError",
     "evalue": "[Errno 2] No such file or directory: '/home/moon/tinyML/TF-NAS-Q/models/checkpoints/search-20220421-163232-TF-NAS-lam0.1-lat15.0-gpu/log.txt'",
     "output_type": "error",
     "traceback": [
      "\u001b[0;31m---------------------------------------------------------------------------\u001b[0m",
      "\u001b[0;31mFileNotFoundError\u001b[0m                         Traceback (most recent call last)",
      "\u001b[0;32m/tmp/ipykernel_6111/472123216.py\u001b[0m in \u001b[0;36m<module>\u001b[0;34m\u001b[0m\n\u001b[1;32m      3\u001b[0m \u001b[0;32mimport\u001b[0m \u001b[0mtorch\u001b[0m\u001b[0;34m.\u001b[0m\u001b[0mnn\u001b[0m \u001b[0;32mas\u001b[0m \u001b[0mnn\u001b[0m\u001b[0;34m\u001b[0m\u001b[0;34m\u001b[0m\u001b[0m\n\u001b[1;32m      4\u001b[0m \u001b[0;32mimport\u001b[0m \u001b[0mtorch\u001b[0m\u001b[0;34m.\u001b[0m\u001b[0mnn\u001b[0m\u001b[0;34m.\u001b[0m\u001b[0mfunctional\u001b[0m \u001b[0;32mas\u001b[0m \u001b[0mF\u001b[0m\u001b[0;34m\u001b[0m\u001b[0;34m\u001b[0m\u001b[0m\n\u001b[0;32m----> 5\u001b[0;31m \u001b[0;32mimport\u001b[0m \u001b[0mlayers\u001b[0m \u001b[0;32mas\u001b[0m \u001b[0ml\u001b[0m\u001b[0;34m\u001b[0m\u001b[0;34m\u001b[0m\u001b[0m\n\u001b[0m\u001b[1;32m      6\u001b[0m \u001b[0;32mimport\u001b[0m \u001b[0mquantizers\u001b[0m \u001b[0;32mas\u001b[0m \u001b[0mq\u001b[0m\u001b[0;34m\u001b[0m\u001b[0;34m\u001b[0m\u001b[0m\n",
      "\u001b[0;32m~/tinyML/TF-NAS-Q/models/layers.py\u001b[0m in \u001b[0;36m<module>\u001b[0;34m\u001b[0m\n\u001b[1;32m     11\u001b[0m logging.basicConfig(stream=sys.stdout, level=logging.INFO,\n\u001b[1;32m     12\u001b[0m \tformat=log_format, datefmt='%m/%d %I:%M:%S %p')\n\u001b[0;32m---> 13\u001b[0;31m \u001b[0mfh\u001b[0m \u001b[0;34m=\u001b[0m \u001b[0mlogging\u001b[0m\u001b[0;34m.\u001b[0m\u001b[0mFileHandler\u001b[0m\u001b[0;34m(\u001b[0m\u001b[0mos\u001b[0m\u001b[0;34m.\u001b[0m\u001b[0mpath\u001b[0m\u001b[0;34m.\u001b[0m\u001b[0mjoin\u001b[0m\u001b[0;34m(\u001b[0m\u001b[0msave\u001b[0m\u001b[0;34m,\u001b[0m \u001b[0;34m'log.txt'\u001b[0m\u001b[0;34m)\u001b[0m\u001b[0;34m)\u001b[0m\u001b[0;34m\u001b[0m\u001b[0;34m\u001b[0m\u001b[0m\n\u001b[0m\u001b[1;32m     14\u001b[0m \u001b[0mfh\u001b[0m\u001b[0;34m.\u001b[0m\u001b[0msetFormatter\u001b[0m\u001b[0;34m(\u001b[0m\u001b[0mlogging\u001b[0m\u001b[0;34m.\u001b[0m\u001b[0mFormatter\u001b[0m\u001b[0;34m(\u001b[0m\u001b[0mlog_format\u001b[0m\u001b[0;34m)\u001b[0m\u001b[0;34m)\u001b[0m\u001b[0;34m\u001b[0m\u001b[0;34m\u001b[0m\u001b[0m\n\u001b[1;32m     15\u001b[0m \u001b[0mlogging\u001b[0m\u001b[0;34m.\u001b[0m\u001b[0mgetLogger\u001b[0m\u001b[0;34m(\u001b[0m\u001b[0;34m)\u001b[0m\u001b[0;34m.\u001b[0m\u001b[0maddHandler\u001b[0m\u001b[0;34m(\u001b[0m\u001b[0mfh\u001b[0m\u001b[0;34m)\u001b[0m\u001b[0;34m\u001b[0m\u001b[0;34m\u001b[0m\u001b[0m\n",
      "\u001b[0;32m/usr/lib/python3.8/logging/__init__.py\u001b[0m in \u001b[0;36m__init__\u001b[0;34m(self, filename, mode, encoding, delay)\u001b[0m\n\u001b[1;32m   1145\u001b[0m             \u001b[0mself\u001b[0m\u001b[0;34m.\u001b[0m\u001b[0mstream\u001b[0m \u001b[0;34m=\u001b[0m \u001b[0;32mNone\u001b[0m\u001b[0;34m\u001b[0m\u001b[0;34m\u001b[0m\u001b[0m\n\u001b[1;32m   1146\u001b[0m         \u001b[0;32melse\u001b[0m\u001b[0;34m:\u001b[0m\u001b[0;34m\u001b[0m\u001b[0;34m\u001b[0m\u001b[0m\n\u001b[0;32m-> 1147\u001b[0;31m             \u001b[0mStreamHandler\u001b[0m\u001b[0;34m.\u001b[0m\u001b[0m__init__\u001b[0m\u001b[0;34m(\u001b[0m\u001b[0mself\u001b[0m\u001b[0;34m,\u001b[0m \u001b[0mself\u001b[0m\u001b[0;34m.\u001b[0m\u001b[0m_open\u001b[0m\u001b[0;34m(\u001b[0m\u001b[0;34m)\u001b[0m\u001b[0;34m)\u001b[0m\u001b[0;34m\u001b[0m\u001b[0;34m\u001b[0m\u001b[0m\n\u001b[0m\u001b[1;32m   1148\u001b[0m \u001b[0;34m\u001b[0m\u001b[0m\n\u001b[1;32m   1149\u001b[0m     \u001b[0;32mdef\u001b[0m \u001b[0mclose\u001b[0m\u001b[0;34m(\u001b[0m\u001b[0mself\u001b[0m\u001b[0;34m)\u001b[0m\u001b[0;34m:\u001b[0m\u001b[0;34m\u001b[0m\u001b[0;34m\u001b[0m\u001b[0m\n",
      "\u001b[0;32m/usr/lib/python3.8/logging/__init__.py\u001b[0m in \u001b[0;36m_open\u001b[0;34m(self)\u001b[0m\n\u001b[1;32m   1174\u001b[0m         \u001b[0mReturn\u001b[0m \u001b[0mthe\u001b[0m \u001b[0mresulting\u001b[0m \u001b[0mstream\u001b[0m\u001b[0;34m.\u001b[0m\u001b[0;34m\u001b[0m\u001b[0;34m\u001b[0m\u001b[0m\n\u001b[1;32m   1175\u001b[0m         \"\"\"\n\u001b[0;32m-> 1176\u001b[0;31m         \u001b[0;32mreturn\u001b[0m \u001b[0mopen\u001b[0m\u001b[0;34m(\u001b[0m\u001b[0mself\u001b[0m\u001b[0;34m.\u001b[0m\u001b[0mbaseFilename\u001b[0m\u001b[0;34m,\u001b[0m \u001b[0mself\u001b[0m\u001b[0;34m.\u001b[0m\u001b[0mmode\u001b[0m\u001b[0;34m,\u001b[0m \u001b[0mencoding\u001b[0m\u001b[0;34m=\u001b[0m\u001b[0mself\u001b[0m\u001b[0;34m.\u001b[0m\u001b[0mencoding\u001b[0m\u001b[0;34m)\u001b[0m\u001b[0;34m\u001b[0m\u001b[0;34m\u001b[0m\u001b[0m\n\u001b[0m\u001b[1;32m   1177\u001b[0m \u001b[0;34m\u001b[0m\u001b[0m\n\u001b[1;32m   1178\u001b[0m     \u001b[0;32mdef\u001b[0m \u001b[0memit\u001b[0m\u001b[0;34m(\u001b[0m\u001b[0mself\u001b[0m\u001b[0;34m,\u001b[0m \u001b[0mrecord\u001b[0m\u001b[0;34m)\u001b[0m\u001b[0;34m:\u001b[0m\u001b[0;34m\u001b[0m\u001b[0;34m\u001b[0m\u001b[0m\n",
      "\u001b[0;31mFileNotFoundError\u001b[0m: [Errno 2] No such file or directory: '/home/moon/tinyML/TF-NAS-Q/models/checkpoints/search-20220421-163232-TF-NAS-lam0.1-lat15.0-gpu/log.txt'"
     ]
    }
   ],
   "source": [
    "import random\n",
    "import torch\n",
    "import torch.nn as nn\n",
    "import torch.nn.functional as F\n",
    "import layers as l\n",
    "import quantizers as q"
   ]
  },
  {
   "cell_type": "code",
   "execution_count": null,
   "metadata": {},
   "outputs": [],
   "source": [
    "second_stem = l.MBInvertedResBlock(32, 32, 8, 16, kernel_size=3, stride=1, affine=False, act_func='relu')"
   ]
  },
  {
   "cell_type": "code",
   "execution_count": null,
   "metadata": {},
   "outputs": [
    {
     "name": "stdout",
     "output_type": "stream",
     "text": [
      "<generator object MBInvertedResBlock.forward.<locals>.<genexpr> at 0x7f02557b5cf0>\n"
     ]
    }
   ],
   "source": [
    "\n",
    "x = torch.zeros(1,32,56,56)\n",
    "y = second_stem(x)"
   ]
  },
  {
   "cell_type": "code",
   "execution_count": null,
   "metadata": {},
   "outputs": [
    {
     "name": "stdout",
     "output_type": "stream",
     "text": [
      "<generator object MBInvertedResBlock.forward.<locals>.<genexpr> at 0x7f02557b5f20>\n"
     ]
    }
   ],
   "source": [
    "a,=second_stem(x)"
   ]
  },
  {
   "cell_type": "code",
   "execution_count": null,
   "metadata": {},
   "outputs": [],
   "source": []
  },
  {
   "cell_type": "code",
   "execution_count": 2,
   "metadata": {},
   "outputs": [],
   "source": [
    "from collections import OrderedDict"
   ]
  },
  {
   "cell_type": "code",
   "execution_count": 3,
   "metadata": {},
   "outputs": [],
   "source": [
    "activation_memory_dict = OrderedDict([\n",
    "\t\t('stage1', OrderedDict([\n",
    "\t\t\t\t('block1', OrderedDict([\n",
    "\t\t\t\t\t\t(0, 1.515625),\n",
    "\t\t\t\t\t\t(1, 3.015625),\n",
    "\t\t\t\t\t\t(2, 1.515625),\n",
    "\t\t\t\t\t\t(3, 3.015625),\n",
    "\t\t\t\t\t])),\n",
    "\t\t\t\t('block2', OrderedDict([\n",
    "\t\t\t\t\t\t(0, 0.568359),\n",
    "\t\t\t\t\t\t(1, 1.130859),\n",
    "\t\t\t\t\t\t(2, 0.568359),\n",
    "\t\t\t\t\t\t(3, 1.130859),\n",
    "\t\t\t\t\t])),\n",
    "\t\t\t])),\n",
    "\t\t('stage2', OrderedDict([\n",
    "\t\t\t\t('block1', OrderedDict([\n",
    "\t\t\t\t\t\t(0, 0.568359),\n",
    "\t\t\t\t\t\t(1, 1.130859),\n",
    "\t\t\t\t\t\t(2, 0.568359),\n",
    "\t\t\t\t\t\t(3, 1.130859),\n",
    "\t\t\t\t\t])),\n",
    "\t\t\t\t('block2', OrderedDict([\n",
    "\t\t\t\t\t\t(0, 0.236816),\n",
    "\t\t\t\t\t\t(1, 0.471191),\n",
    "\t\t\t\t\t\t(2, 0.236816),\n",
    "\t\t\t\t\t\t(3, 0.471191),\n",
    "\t\t\t\t\t])),\n",
    "\t\t\t\t('block3', OrderedDict([\n",
    "\t\t\t\t\t\t(0, 0.236816),\n",
    "\t\t\t\t\t\t(1, 0.471191),\n",
    "\t\t\t\t\t\t(2, 0.236816),\n",
    "\t\t\t\t\t\t(3, 0.471191),\n",
    "\t\t\t\t\t])),\n",
    "\t\t\t])),\n",
    "\t\t('stage3', OrderedDict([\n",
    "\t\t\t\t('block1', OrderedDict([\n",
    "\t\t\t\t\t\t(0, 0.236816),\n",
    "\t\t\t\t\t\t(1, 0.471191),\n",
    "\t\t\t\t\t\t(2, 0.236816),\n",
    "\t\t\t\t\t\t(3, 0.471191),\n",
    "\t\t\t\t\t])),\n",
    "\t\t\t\t('block2', OrderedDict([\n",
    "\t\t\t\t\t\t(0, 0.118408),\n",
    "\t\t\t\t\t\t(1, 0.235596),\n",
    "\t\t\t\t\t\t(2, 0.118408),\n",
    "\t\t\t\t\t\t(3, 0.235596),\n",
    "\t\t\t\t\t])),\n",
    "\t\t\t\t('block3', OrderedDict([\n",
    "\t\t\t\t\t\t(0, 0.118408),\n",
    "\t\t\t\t\t\t(1, 0.235596),\n",
    "\t\t\t\t\t\t(2, 0.118408),\n",
    "\t\t\t\t\t\t(3, 0.235596),\n",
    "\t\t\t\t\t])),\n",
    "\t\t\t\t('block4', OrderedDict([\n",
    "\t\t\t\t\t\t(0, 0.118408),\n",
    "\t\t\t\t\t\t(1, 0.235596),\n",
    "\t\t\t\t\t\t(2, 0.118408),\n",
    "\t\t\t\t\t\t(3, 0.235596),\n",
    "\t\t\t\t\t])),\n",
    "\t\t\t])),\n",
    "\t\t('stage4', OrderedDict([\n",
    "\t\t\t\t('block1', OrderedDict([\n",
    "\t\t\t\t\t\t(0, 0.118408),\n",
    "\t\t\t\t\t\t(1, 0.235596),\n",
    "\t\t\t\t\t\t(2, 0.118408),\n",
    "\t\t\t\t\t\t(3, 0.235596),\n",
    "\t\t\t\t\t])),\n",
    "\t\t\t\t('block2', OrderedDict([\n",
    "\t\t\t\t\t\t(0, 0.165771),\n",
    "\t\t\t\t\t\t(1, 0.329834),\n",
    "\t\t\t\t\t\t(2, 0.165771),\n",
    "\t\t\t\t\t\t(3, 0.329834),\n",
    "\t\t\t\t\t])),\n",
    "\t\t\t\t('block3', OrderedDict([\n",
    "\t\t\t\t\t\t(0, 0.165771),\n",
    "\t\t\t\t\t\t(1, 0.329834),\n",
    "\t\t\t\t\t\t(2, 0.165771),\n",
    "\t\t\t\t\t\t(3, 0.329834),\n",
    "\t\t\t\t\t])),\n",
    "\t\t\t\t('block4', OrderedDict([\n",
    "\t\t\t\t\t\t(0, 0.165771),\n",
    "\t\t\t\t\t\t(1, 0.329834),\n",
    "\t\t\t\t\t\t(2, 0.165771),\n",
    "\t\t\t\t\t\t(3, 0.329834),\n",
    "\t\t\t\t\t])),\n",
    "\t\t\t])),\n",
    "\t\t('stage5', OrderedDict([\n",
    "\t\t\t\t('block1', OrderedDict([\n",
    "\t\t\t\t\t\t(0, 0.165771),\n",
    "\t\t\t\t\t\t(1, 0.329834),\n",
    "\t\t\t\t\t\t(2, 0.165771),\n",
    "\t\t\t\t\t\t(3, 0.329834),\n",
    "\t\t\t\t\t])),\n",
    "\t\t\t])),\n",
    "\t])\n"
   ]
  },
  {
   "cell_type": "code",
   "execution_count": 7,
   "metadata": {},
   "outputs": [
    {
     "name": "stdout",
     "output_type": "stream",
     "text": [
      "stage1\n",
      "block1 : 3.015625\n",
      "block2 : 1.130859\n",
      "stage2\n",
      "block1 : 1.130859\n",
      "block2 : 0.471191\n",
      "block3 : 0.471191\n",
      "stage3\n",
      "block1 : 0.471191\n",
      "block2 : 0.235596\n",
      "block3 : 0.235596\n",
      "block4 : 0.235596\n",
      "stage4\n",
      "block1 : 0.235596\n",
      "block2 : 0.329834\n",
      "block3 : 0.329834\n",
      "block4 : 0.329834\n",
      "stage5\n",
      "block1 : 0.329834\n"
     ]
    }
   ],
   "source": [
    "x_ticks = []\n",
    "peack_mem_list = []\n",
    "for stage in activation_memory_dict:\n",
    "    print(stage)\n",
    "    for block in activation_memory_dict[stage]:\n",
    "        peak_mem = -1.0\n",
    "        for op in activation_memory_dict[stage][block]:\n",
    "            if peak_mem < activation_memory_dict[stage][block][op]:\n",
    "                peak_mem = activation_memory_dict[stage][block][op]\n",
    "        \n",
    "        x_ticks.append(stage + block)\n",
    "        print(\"{} : {}\".format(block,peak_mem))\n",
    "        peak_mem_list.append(peak_mem)"
   ]
  },
  {
   "cell_type": "code",
   "execution_count": 5,
   "metadata": {},
   "outputs": [],
   "source": [
    "import matplotlib.pyplot as plt"
   ]
  },
  {
   "cell_type": "code",
   "execution_count": 6,
   "metadata": {},
   "outputs": [
    {
     "data": {
      "text/plain": [
       "<module 'matplotlib.pyplot' from '/home/moon/.local/lib/python3.8/site-packages/matplotlib/pyplot.py'>"
      ]
     },
     "execution_count": 6,
     "metadata": {},
     "output_type": "execute_result"
    }
   ],
   "source": [
    "plt.plot()"
   ]
  },
  {
   "cell_type": "code",
   "execution_count": null,
   "metadata": {},
   "outputs": [],
   "source": []
  }
 ],
 "metadata": {
  "interpreter": {
   "hash": "df0893f56f349688326838aaeea0de204df53a132722cbd565e54b24a8fec5f6"
  },
  "kernelspec": {
   "display_name": "Python 3.8.9 64-bit",
   "language": "python",
   "name": "python3"
  },
  "language_info": {
   "codemirror_mode": {
    "name": "ipython",
    "version": 3
   },
   "file_extension": ".py",
   "mimetype": "text/x-python",
   "name": "python",
   "nbconvert_exporter": "python",
   "pygments_lexer": "ipython3",
   "version": "3.8.9"
  },
  "orig_nbformat": 4
 },
 "nbformat": 4,
 "nbformat_minor": 2
}
