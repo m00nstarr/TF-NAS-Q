{
 "cells": [
  {
   "cell_type": "code",
   "execution_count": 1,
   "metadata": {},
   "outputs": [],
   "source": [
    "import matplotlib.pyplot as plt\n",
    "from collections import OrderedDict"
   ]
  },
  {
   "cell_type": "code",
   "execution_count": 4,
   "metadata": {},
   "outputs": [],
   "source": [
    "x_axis = [ i for i in range(90)] # epoch\n",
    "y_axis = [] # accuracy\n",
    "gamma_parameter = [[[],[],[],[],[]] for _ in range(80)]"
   ]
  },
  {
   "cell_type": "code",
   "execution_count": 5,
   "metadata": {},
   "outputs": [],
   "source": [
    "f = open('CIFAR-10-0.5log.txt', 'r')\n",
    "lines = f.readlines()\n",
    "cur_epoch = 0\n",
    "print_gamma_params = 0\n"
   ]
  },
  {
   "cell_type": "code",
   "execution_count": 6,
   "metadata": {},
   "outputs": [],
   "source": [
    "for line in lines:\n",
    "    item = line.split(\" \")\n",
    "    if 'Epoch:' in item:\n",
    "        if cur_epoch != int(item[item.index(\"Epoch:\")+1]):\n",
    "            cur_epoch = int(item[item.index(\"Epoch:\")+1])\n",
    "            print_gamma_params = 0\n",
    "\n",
    "    # train accuracy 저장\n",
    "    if 'Train_acc' in item:\n",
    "        accuracy = item[item.index(\"Train_acc\")+1]\n",
    "        accuracy = accuracy[:-2]\n",
    "        y_axis.append(float(accuracy))\n",
    "    \n",
    "    # gamma parameter 저장\n",
    "    if cur_epoch >= 10:\n",
    "        if 'The current arch parameters are:' in line:\n",
    "            # gamma parameter 리스트 저장 flag 1로 set\n",
    "            print_gamma_params = 1\n",
    "    \n",
    "    if print_gamma_params == 1:\n",
    "        if 'stage:' in item:\n",
    "            stage_num = int(item[item.index('stage:')+1])\n",
    "            blk_params = list(item[item.index('block:')+2:])\n",
    "            blk_params[0] = blk_params[0][1:]\n",
    "            blk_params = list(map(float, blk_params))\n",
    "            gamma_parameter[cur_epoch-10][stage_num-1].append(blk_params)"
   ]
  },
  {
   "cell_type": "code",
   "execution_count": 10,
   "metadata": {},
   "outputs": [
    {
     "name": "stdout",
     "output_type": "stream",
     "text": [
      "[0.840456, 0.119132, 0.018531, 0.02188]\n"
     ]
    }
   ],
   "source": [
    "print(gamma_parameter[0][0][0])"
   ]
  },
  {
   "cell_type": "code",
   "execution_count": null,
   "metadata": {},
   "outputs": [],
   "source": [
    "from typing import OrderedDict\n",
    "import matplotlib.pyplot as plt\n",
    "\n",
    "x_axis = [ i for i in range(90)] # epoch\n",
    "y_axis = [] # accuracy\n",
    "# gamma_parameter = [[[],[],[],[],[]] for _ in range(80)]\n",
    "gamma_parameter = {}\n",
    "\n",
    "f = open('CIFAR-10-0.5log.txt', 'r')\n",
    "lines = f.readlines()\n",
    "cur_epoch = 0\n",
    "print_gamma_params = 0\n",
    "for line in lines:\n",
    "    item = line.split(\" \")\n",
    "    if 'Epoch:' in item:\n",
    "        if cur_epoch != int(item[item.index(\"Epoch:\")+1]):\n",
    "            cur_epoch = int(item[item.index(\"Epoch:\")+1])\n",
    "            print_gamma_params = 0\n",
    "\n",
    "    # train accuracy 저장\n",
    "    if 'Train_acc' in item:\n",
    "        accuracy = item[item.index(\"Train_acc\")+1]\n",
    "        accuracy = accuracy[:-2]\n",
    "        y_axis.append(float(accuracy))\n",
    "    \n",
    "    # gamma parameter 저장\n",
    "    if cur_epoch >= 10:\n",
    "        if 'The current arch parameters are:' in line:\n",
    "            # gamma parameter 리스트 저장 flag 1로 set\n",
    "            print_gamma_params = 1\n",
    "            gamma_parameter[cur_epoch] = {}\n",
    "            gamma_parameter[cur_epoch]['stage1'] = []\n",
    "            gamma_parameter[cur_epoch]['stage2'] = []\n",
    "            gamma_parameter[cur_epoch]['stage3'] = []\n",
    "            gamma_parameter[cur_epoch]['stage4'] = []\n",
    "            gamma_parameter[cur_epoch]['stage5'] = []\n",
    "    \n",
    "    if print_gamma_params == 1:\n",
    "        if 'stage:' in item:\n",
    "            stage_num = int(item[item.index('stage:')+1])\n",
    "            blk_params = list(item[item.index('block:')+2:])\n",
    "            blk_params[0] = blk_params[0][1:]\n",
    "            blk_params = list(map(float, blk_params))\n",
    "            gamma_parameter[cur_epoch]['stage'+str(stage_num)].append(blk_params)\n",
    "\n",
    "print(len(gamma_parameter))\n",
    "print(gamma_parameter)         \n",
    "plt.plot(x_axis, y_axis, 'r-')\n",
    "# 그래프 제목\n",
    "plt.title('CIFAR-10 0.5KB')\n",
    "# x축, y축 이름\n",
    "plt.xlabel(\"Epoch\")\n",
    "plt.ylabel(\"Train Accuracy\")\n",
    "# 파일로 저장\n",
    "plt.savefig('cifar-10-0.5.png')"
   ]
  }
 ],
 "metadata": {
  "interpreter": {
   "hash": "df0893f56f349688326838aaeea0de204df53a132722cbd565e54b24a8fec5f6"
  },
  "kernelspec": {
   "display_name": "Python 3.8.9 64-bit",
   "language": "python",
   "name": "python3"
  },
  "language_info": {
   "codemirror_mode": {
    "name": "ipython",
    "version": 3
   },
   "file_extension": ".py",
   "mimetype": "text/x-python",
   "name": "python",
   "nbconvert_exporter": "python",
   "pygments_lexer": "ipython3",
   "version": "3.8.9"
  },
  "orig_nbformat": 4
 },
 "nbformat": 4,
 "nbformat_minor": 2
}
