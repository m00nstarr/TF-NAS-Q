{
 "cells": [
  {
   "cell_type": "code",
   "execution_count": 70,
   "metadata": {},
   "outputs": [
    {
     "name": "stdout",
     "output_type": "stream",
     "text": [
      "OrderedDict([('stage1', OrderedDict([('block1', [0, 0])])), ('stage2', OrderedDict([('block1', [1, 1])])), ('stage3', OrderedDict([('block1', [0, 3]), ('block2', [3, 3]), ('block3', [1, 3]), ('block4', [3, 3])])), ('stage4', OrderedDict([('block1', [3, 3])])), ('stage5', OrderedDict([('block1', [1, 3])]))])\n",
      "[array([0.9855076 , 0.00923025, 0.00355354, 0.00170848], dtype=float32), array([0.23362042, 0.56194884, 0.14848064, 0.05595018], dtype=float32), array([0.19612086, 0.6766947 , 0.0901768 , 0.03700763], dtype=float32), array([0.10424535, 0.12522718, 0.2306568 , 0.5398706 ], dtype=float32), array([0.10741486, 0.12877357, 0.23548885, 0.52832276], dtype=float32), array([0.08780569, 0.10974105, 0.16972682, 0.6327264 ], dtype=float32), array([0.00386799, 0.0028366 , 0.00918229, 0.98411316], dtype=float32), array([0.00391143, 0.00319314, 0.00960693, 0.98328847], dtype=float32), array([0.00354134, 0.00387894, 0.00938572, 0.983194  ], dtype=float32), array([0.00316225, 0.00361332, 0.00879488, 0.9844296 ], dtype=float32), array([0.02721187, 0.03097326, 0.04418287, 0.897632  ], dtype=float32), array([0.01183036, 0.01348324, 0.01899927, 0.95568717], dtype=float32), array([0.01200272, 0.01364254, 0.01920887, 0.9551459 ], dtype=float32), array([0.05679126, 0.02829038, 0.04387479, 0.8710436 ], dtype=float32)]\n"
     ]
    }
   ],
   "source": [
    "import torch\n",
    "from models.model_search import Network\n",
    "import pickle\n",
    "from tools.config import mc_mask_dddict, peak_memory_lookup_key_dddict\n",
    "import logging\n",
    "from parsing_model import *\n",
    "\n",
    "model_path = './checkpoints/search-20220504-172321-TF-NAS-lam0.1-lat15.0-gpu/searched_model_15.pth.tar'\n",
    "\n",
    "with open('./latency_pkl/peak_memory_cpu.pkl', 'rb') as f:\n",
    "\tpeak_memory_lookup = pickle.load(f)\n",
    "\n",
    "# mc_maxnum_dddict = get_mc_num_dddict(mc_mask_dddict, is_max=True)\n",
    "# model = Network(200, mc_maxnum_dddict, target_mem = 0.5, memory_lookup = peak_memory_lookup)\n",
    "# model = torch.nn.DataParallel(model).cuda()\n",
    "# model.module.set_temperature(5.0)\n",
    "\n",
    "# parsing model architecture\n",
    "op_weights, depth_weights, quantized_weights= get_op_and_depth_weights(model_path)\n",
    "parsed_arch = parse_architecture(op_weights, depth_weights, quantized_weights)\n",
    "print(parsed_arch)\n",
    "mc_mask_dddict = torch.load(model_path)['mc_mask_dddict']\n",
    "mc_num_dddict  = get_mc_num_dddict(mc_mask_dddict)\n",
    "\n",
    "# model = Network(200, parsed_arch, mc_num_dddict)\n",
    "# model = torch.nn.DataParallel(model).cuda()\n",
    "\n",
    "print(quantized_weights)"
   ]
  },
  {
   "cell_type": "code",
   "execution_count": 71,
   "metadata": {},
   "outputs": [
    {
     "name": "stdout",
     "output_type": "stream",
     "text": [
      "63\n",
      "stage 1 peak memory : 0.4725341796875\n",
      "143\n",
      "stage 2 peak memory : 0.49945068359375\n",
      "127\n",
      "508\n",
      "480\n",
      "508\n",
      "stage 3 peak memory : 0.49945068359375\n",
      "556\n",
      "stage 4 peak memory : 0.49945068359375\n",
      "448\n",
      "stage 5 peak memory : 0.57421875\n"
     ]
    }
   ],
   "source": [
    "from models.layers import *\n",
    "\n",
    "PRIMITIVES = [\n",
    "\t'MBI_k3_e3',\n",
    "\t'MBI_k3_e6',\n",
    "\t'MBI_k5_e3',\n",
    "\t'MBI_k5_e6',\n",
    "\t# 'skip',\n",
    "]\n",
    "\n",
    "OPS = {\n",
    "\t'MBI_k3_e3' : lambda ic, mc, oc, s, aff, act: MBInvertedResBlock(ic, mc, 0, oc, 3, s, affine=aff, act_func=act),\n",
    "\t'MBI_k3_e6' : lambda ic, mc, oc, s, aff, act: MBInvertedResBlock(ic, mc, 0, oc, 3, s, affine=aff, act_func=act),\n",
    "\t'MBI_k5_e3' : lambda ic, mc, oc, s, aff, act: MBInvertedResBlock(ic, mc, 0, oc, 5, s, affine=aff, act_func=act),\n",
    "\t'MBI_k5_e6' : lambda ic, mc, oc, s, aff, act: MBInvertedResBlock(ic, mc, 0, oc, 5, s, affine=aff, act_func=act),\n",
    "\t# 'skip'      : lambda ic, mc, oc, s, aff, act: IdentityLayer(ic, oc),\n",
    "}\n",
    "\n",
    "def get_lookup_peak_memory(parsed_arch, mc_num_dddict, peak_memory_lookup_key_dddict, peak_memory_lookup, stage):\n",
    "\tpeak_memory = 0.\n",
    "\t\n",
    "\tfor block in parsed_arch[stage]:\n",
    "\t\top_idx = parsed_arch[stage][block][0]\n",
    "\t\tquant_idx = parsed_arch[stage][block][1]\n",
    "\t\tmid_channels_key = mc_num_dddict[stage][block][op_idx]\n",
    "\t\tprint(mid_channels_key)\n",
    "\t\tpeak_memory_lookup_key = peak_memory_lookup_key_dddict[stage][block][op_idx]\n",
    "\t\tcur_peak_memory = peak_memory_lookup[peak_memory_lookup_key][mid_channels_key]\n",
    "\t\t# 0 : 4-bit , 1 : 8-bit, 2 : 16-bit, 3: 32-bit\n",
    "\t\tcur_peak_memory = cur_peak_memory / (2**(3-quant_idx))\n",
    "\t\tpeak_memory = max(peak_memory, cur_peak_memory)\n",
    "\n",
    "\treturn peak_memory\n",
    "\n",
    "peak_memory = []\n",
    "\n",
    "for stage in range(1,6):\n",
    "\tpeak_mem = get_lookup_peak_memory(parsed_arch, mc_num_dddict, peak_memory_lookup_key_dddict, peak_memory_lookup, 'stage{}'.format(stage))\n",
    "\tpeak_memory.append(peak_mem)\n",
    "\tprint('stage {} peak memory : {}'.format(stage, peak_mem))"
   ]
  },
  {
   "cell_type": "code",
   "execution_count": 26,
   "metadata": {},
   "outputs": [],
   "source": [
    "T_peak_memory = [6.809625,2.583984375, 1.07666015625, 0.562255859375,0.9091796875 ]"
   ]
  },
  {
   "cell_type": "code",
   "execution_count": 69,
   "metadata": {},
   "outputs": [
    {
     "data": {
      "image/png": "[encoded data removed]",
      "text/plain": [
       "<Figure size 432x288 with 1 Axes>"
      ]
     },
     "metadata": {
      "needs_background": "light"
     },
     "output_type": "display_data"
    }
   ],
   "source": [
    "# peak memory graph\n",
    "import matplotlib.pyplot as plt\n",
    "import numpy as np\n",
    "\n",
    "x  = np.arange(5)\n",
    "stage = ['stage3', 'stage4', 'stage5', 'stage6', 'stage7']\n",
    "width = 0.3\n",
    "\n",
    "fig, ax = plt.subplots()\n",
    "ax.bar(x - width / 2, T_peak_memory, color='red', width = 0.3, label = 'baseline')\n",
    "ax.bar(x + width / 2, peak_memory,color = 'dodgerblue', width =0.3 , label = 'ours')\n",
    "plt.xticks(x, stage)\n",
    "# 그래프 제목\n",
    "plt.title('')\n",
    "# 축 이름\n",
    "plt.xlabel('Stage')\n",
    "plt.ylabel('Peak Memory (MByte)')\n",
    "# y 축 범위\n",
    "plt.ylim([0, 7])\n",
    "plt.axhline(y=0.5, color='r', linestyle='dashed', label='0.5')\n",
    "plt.legend()\n",
    "# 파일로 저장\n",
    "plt.savefig('experiment_result/peak_memory_tf-nas-q.png', transparent = False)"
   ]
  },
  {
   "cell_type": "code",
   "execution_count": 54,
   "metadata": {},
   "outputs": [
    {
     "data": {
      "image/png": "[encoded data removed]",
      "text/plain": [
       "<Figure size 720x360 with 2 Axes>"
      ]
     },
     "metadata": {
      "needs_background": "light"
     },
     "output_type": "display_data"
    }
   ],
   "source": [
    "f, axes = plt.subplots(1,2)\n",
    "f.set_size_inches((10,5))\n",
    "axes[0].bar(stage, T_peak_memory, color = 'red', width =0.5)\n",
    "axes[0].axhline(y=0.5, color='r', linestyle='-', label='0.5')\n",
    "axes[0].set_xlabel('Stage')\n",
    "axes[0].set_ylabel('Peak memory (Mbytes)')\n",
    "axes[0].set_ylim([0,7])\n",
    "axes[0].legend()\n",
    "axes[1].bar(stage, peak_memory, color = 'dodgerblue', width = 0.5)\n",
    "axes[1].set_xlabel('Stage')\n",
    "axes[1].set_ylabel('Peak memory (Mbytes)')\n",
    "axes[1].axhline(y=0.5, color='r', linestyle='-', label='0.5')\n",
    "axes[1].set_ylim([0,7])\n",
    "axes[1].legend()\n",
    "\n",
    "plt.savefig('experiment_result/peak_memory_tf-nas-q.png', transparent = False)"
   ]
  },
  {
   "cell_type": "code",
   "execution_count": 36,
   "metadata": {},
   "outputs": [
    {
     "data": {
      "image/png": "[encoded data removed]",
      "text/plain": [
       "<Figure size 432x288 with 2 Axes>"
      ]
     },
     "metadata": {
      "needs_background": "light"
     },
     "output_type": "display_data"
    },
    {
     "data": {
      "image/png": "[encoded data removed]",
      "text/plain": [
       "<Figure size 432x288 with 2 Axes>"
      ]
     },
     "metadata": {
      "needs_background": "light"
     },
     "output_type": "display_data"
    },
    {
     "data": {
      "image/png": "[encoded data removed]",
      "text/plain": [
       "<Figure size 432x288 with 2 Axes>"
      ]
     },
     "metadata": {
      "needs_background": "light"
     },
     "output_type": "display_data"
    },
    {
     "data": {
      "image/png": "[encoded data removed]",
      "text/plain": [
       "<Figure size 432x288 with 2 Axes>"
      ]
     },
     "metadata": {
      "needs_background": "light"
     },
     "output_type": "display_data"
    },
    {
     "data": {
      "image/png": "[encoded data removed]",
      "text/plain": [
       "<Figure size 432x288 with 2 Axes>"
      ]
     },
     "metadata": {
      "needs_background": "light"
     },
     "output_type": "display_data"
    }
   ],
   "source": [
    "# g weights 그리기\n",
    "stage_blk1_gweights = []\n",
    "stage1_1_g_weights = quantized_weights[0]\n",
    "stage_blk1_gweights.append(quantized_weights[0])\n",
    "stage2_1_g_weights = quantized_weights[2]\n",
    "stage_blk1_gweights.append(quantized_weights[2])\n",
    "stage3_1_g_weights = quantized_weights[5]\n",
    "stage_blk1_gweights.append(quantized_weights[5])\n",
    "stage4_1_g_weights = quantized_weights[9]\n",
    "stage_blk1_gweights.append(quantized_weights[9])\n",
    "stage5_1_g_weights = quantized_weights[13]\n",
    "stage_blk1_gweights.append(quantized_weights[13])\n",
    "\n",
    "x_2  = np.arange(4)\n",
    "quantization = ['4 bit', '8 bit', '16 bit', '32 bit']\n",
    "\n",
    "for i in range(5):\n",
    "    gweights = stage_blk1_gweights[i]\n",
    "    # plt.bar(x_2, gweights, color='dodgerblue', width=0.5)\n",
    "    # plt.xticks(x_2, quantization)\n",
    "    # 그래프 제목\n",
    "    # plt.title('stage {}'.format(i+1))\n",
    "    # # 축 이름\n",
    "    # plt.xlabel('Quantization Precision')\n",
    "    # plt.ylabel('Gamma Value')\n",
    "\n",
    "    f,(ax,ax2) = plt.subplots(2,1,sharex=True)\n",
    "\n",
    "    # plot the same data on both axes\n",
    "    ax.bar(quantization, gweights, color='dodgerblue', width=0.5)\n",
    "    ax2.bar(quantization, gweights, color='dodgerblue', width=0.5)\n",
    "\n",
    "    # zoom-in / limit the view to different portions of the data\n",
    "    ax.set_ylim(.6,1) # outliers only\n",
    "    ax2.set_ylim(0,.3) # most of the data\n",
    "\n",
    "    # hide the spines between ax and ax2\n",
    "    ax.spines['bottom'].set_visible(False)\n",
    "    ax2.spines['top'].set_visible(False)\n",
    "    ax.xaxis.tick_top()\n",
    "    ax.tick_params(labeltop='off') # don't put tick labels at the top\n",
    "    ax2.xaxis.tick_bottom()\n",
    "\n",
    "    d = .015 # how big to make the diagonal lines in axes coordinates\n",
    "    # arguments to pass plot, just so we don't keep repeating them\n",
    "    kwargs = dict(transform=ax.transAxes, color='k', clip_on=False)\n",
    "    ax.plot((-d,+d),(-d,+d), **kwargs)      # top-left diagonal\n",
    "    ax.plot((1-d,1+d),(-d,+d), **kwargs)    # top-right diagonal\n",
    "\n",
    "    kwargs.update(transform=ax2.transAxes)  # switch to the bottom axes\n",
    "    ax2.plot((-d,+d),(1-d,1+d), **kwargs)   # bottom-left diagonal\n",
    "    ax2.plot((1-d,1+d),(1-d,1+d), **kwargs) # bottom-right diagonal\n",
    "\n",
    "    plt.show()"
   ]
  },
  {
   "cell_type": "code",
   "execution_count": null,
   "metadata": {},
   "outputs": [],
   "source": []
  }
 ],
 "metadata": {
  "interpreter": {
   "hash": "df0893f56f349688326838aaeea0de204df53a132722cbd565e54b24a8fec5f6"
  },
  "kernelspec": {
   "display_name": "Python 3.8.9 64-bit",
   "language": "python",
   "name": "python3"
  },
  "language_info": {
   "codemirror_mode": {
    "name": "ipython",
    "version": 3
   },
   "file_extension": ".py",
   "mimetype": "text/x-python",
   "name": "python",
   "nbconvert_exporter": "python",
   "pygments_lexer": "ipython3",
   "version": "3.8.9"
  },
  "orig_nbformat": 4
 },
 "nbformat": 4,
 "nbformat_minor": 2
}
